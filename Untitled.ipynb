{
 "cells": [
  {
   "cell_type": "code",
   "execution_count": 6,
   "id": "f07b8e9e",
   "metadata": {},
   "outputs": [
    {
     "name": "stdout",
     "output_type": "stream",
     "text": [
      "Hurry up and enter your scallywags name: eric\n",
      "Bootleg Eric\n"
     ]
    },
    {
     "data": {
      "text/plain": [
       "2"
      ]
     },
     "execution_count": 6,
     "metadata": {},
     "output_type": "execute_result"
    }
   ],
   "source": [
    "class Pirate:\n",
    "    def __init__(self):\n",
    "        self.name = input('Hurry up and enter your scallywags name: ')\n",
    "        self.first_name = 'Bootleg'\n",
    "        self.piece_of_eight = 0 \n",
    "\n",
    "    def show_full_name(self):\n",
    "        print(self.first_name + ' ' + self.name.capitalize())\n",
    "        \n",
    "    def add_piece_of_eight(self):\n",
    "        self.piece_of_eight = self.piece_of_eight + 2\n",
    "        \n",
    "player = Pirate()\n",
    "player.show_full_name()\n",
    "player.add_piece_of_eight()\n",
    "player.piece_of_eight\n"
   ]
  },
  {
   "cell_type": "code",
   "execution_count": null,
   "id": "1a7b8a02",
   "metadata": {},
   "outputs": [],
   "source": [
    "def play():\n",
    "\n",
    "    player = Pirate()\n",
    "    player.show_full_name()\n",
    "\n",
    "    print(\"\"\"Ahoy, Matey! You're about to embark on an amazing voyage to obtain Captain Mady's treasure. If you know Captain Mady, then you know this won't be easy. As a seasoned pirate, you know that this voyage will be long and\n",
    "    tedious; however, no one knows the seaven seas quite like you! In order to obtain Captain Mady's treasure, you must collect all pieces of eight and present them to her. Captain Mady has minions in each destination on your map.\n",
    "    The pirates will give you a riddle, if answered correctly, then will give you some pieces of eight. Answer incorrectly.....let's just say Captain Mady's pirates aren't too forgiving. Following your map, you must first travel\n",
    "    through Rigi Town. Once you've conquered goons of the city, there is a ship that awaits you that carry you across the seas where the sirens await you! Finally you'll arrive at the creeyp cave where Captain Mady awaits you!\n",
    "    Good luck! \"\"\")\n",
    "\n",
    "\n",
    "\n",
    "    def rigi_town():\n",
    "        print(\"\"\"You've just entered Rigi Town! Wow what an exciting place to be! There are wanted posters all over for Captain Mady, rumor is she stole another booty! Can you believe it?\n",
    "        I certainly can. I guess somethings just never change! Look alive! One of Mady's ruffians just approached you!\n",
    "        What will you do? (1): Greet her with a nice and warm smile, (2): Run away, or (3): Kick her butt!\"\"\")\n",
    "\n",
    "        scenario_input = input(\"Enter a reponse:\")\n",
    "        \n",
    "        if scenario_input == '1':\n",
    "            print(\"Are you serious? This is one of Captain Mady's goons we're talking about. She just kicked you butt and sent you packing!\")\n",
    "        elif scenario_input == '2':\n",
    "            print(\"How did you become a pirate??? \")\n",
    "        elif scenario_input == '3':\n",
    "             print(\"I mean....she did deserve it! Great job beating up Mady's goon. You picked up two pieces of eight from the ground nex to the goon's swollen face!\")\n",
    "             player.add_piece_of_eight()\n",
    "             print(player.piece_of_eight)\n",
    "\n",
    "    rigi_town()\n",
    "    \n",
    "    #     callfunction()\n",
    "    #\n",
    "    # def boat_voyage():\n",
    "    #\n",
    "    #     print('narrative')\n",
    "    #\n",
    "    #     answer = input(\"Enter your choice:\")\n",
    "    #\n",
    "    #     answer = input(>)\n",
    "    #     if answer == '1':\n",
    "    #         callfunction()\n",
    "    #     elif answer == '2':\n",
    "    #         callfunction()\n",
    "    #     elif answer == '3':\n",
    "    #         callfunction()\n",
    "    #     elif answer == '4':\n",
    "    #         callfunction()\n",
    "    #\n",
    "    # def creepy_cave():\n",
    "    #\n",
    "    #     print('narrative')\n",
    "    #\n",
    "    #     answer = input(\"Enter your choice:\")\n",
    "    #\n",
    "    #     answer = input(>)\n",
    "    #     if answer == '1':\n",
    "    #         callfunction()\n",
    "    #     elif answer == '2':\n",
    "    #         callfunction()\n",
    "    #     elif answer == '3':\n",
    "    #         callfunction()\n",
    "    #     elif answer == '4':\n",
    "    #         callfunction()\n",
    "    #\n",
    "    # def creepy_cave():\n",
    "    #\n",
    "    #     print('narrative')\n",
    "    #\n",
    "    #     answer = input(\"Enter your choice:\")\n",
    "    #\n",
    "    #     answer = input(>)\n",
    "    #     if answer == '1':\n",
    "    #         callfunction()\n",
    "    #     elif answer == '2':\n",
    "    #         callfunction()\n",
    "    #     elif answer == '3':\n",
    "    #         callfunction()\n",
    "    #     elif answer == '4':\n",
    "    #         callfunction()\n",
    "\n",
    "\n",
    "play()\n"
   ]
  },
  {
   "cell_type": "code",
   "execution_count": null,
   "id": "f3246c1d",
   "metadata": {},
   "outputs": [],
   "source": []
  }
 ],
 "metadata": {
  "kernelspec": {
   "display_name": "Python 3",
   "language": "python",
   "name": "python3"
  },
  "language_info": {
   "codemirror_mode": {
    "name": "ipython",
    "version": 3
   },
   "file_extension": ".py",
   "mimetype": "text/x-python",
   "name": "python",
   "nbconvert_exporter": "python",
   "pygments_lexer": "ipython3",
   "version": "3.9.5"
  }
 },
 "nbformat": 4,
 "nbformat_minor": 5
}
