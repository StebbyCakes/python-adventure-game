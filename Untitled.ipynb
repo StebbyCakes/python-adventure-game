{
 "cells": [
  {
   "cell_type": "code",
   "execution_count": null,
   "id": "fc2769dc",
   "metadata": {},
   "outputs": [],
   "source": [
    "class Pirate:\n",
    "    def __init__(self):\n",
    "        self.name = input('Hurry up and enter your scallywags name: ')\n",
    "        self.first_name = 'Bootleg'\n",
    "        self.piece_of_eight = 0 \n",
    "\n",
    "    def show_full_name(self):\n",
    "        print(self.first_name + ' ' + self.name.capitalize())\n",
    "        \n",
    "    def add_piece_of_eight(self):\n",
    "        self.piece_of_eight = self.piece_of_eight + 2\n",
    "        \n",
    "player = Pirate()\n",
    "player.show_full_name()\n",
    "player.add_piece_of_eight()\n",
    "player.piece_of_eight\n"
   ]
  },
  {
   "cell_type": "code",
   "execution_count": null,
   "id": "d4f78311",
   "metadata": {},
   "outputs": [],
   "source": []
  }
 ],
 "metadata": {
  "kernelspec": {
   "display_name": "Python 3",
   "language": "python",
   "name": "python3"
  },
  "language_info": {
   "codemirror_mode": {
    "name": "ipython",
    "version": 3
   },
   "file_extension": ".py",
   "mimetype": "text/x-python",
   "name": "python",
   "nbconvert_exporter": "python",
   "pygments_lexer": "ipython3",
   "version": "3.9.5"
  }
 },
 "nbformat": 4,
 "nbformat_minor": 5
}
