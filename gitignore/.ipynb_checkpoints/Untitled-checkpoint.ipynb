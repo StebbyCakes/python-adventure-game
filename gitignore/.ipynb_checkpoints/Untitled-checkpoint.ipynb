{
 "cells": [
  {
   "cell_type": "code",
   "execution_count": 11,
   "id": "c34b63c0",
   "metadata": {},
   "outputs": [
    {
     "ename": "SyntaxError",
     "evalue": "invalid syntax (<ipython-input-11-a4eba5743c8a>, line 2)",
     "output_type": "error",
     "traceback": [
      "\u001b[0;36m  File \u001b[0;32m\"<ipython-input-11-a4eba5743c8a>\"\u001b[0;36m, line \u001b[0;32m2\u001b[0m\n\u001b[0;31m    _____              _____    _______              _____   _   _\u001b[0m\n\u001b[0m                       ^\u001b[0m\n\u001b[0;31mSyntaxError\u001b[0m\u001b[0;31m:\u001b[0m invalid syntax\n"
     ]
    }
   ],
   "source": [
    "game_title = [\"\"\"\n",
    "  _____              _____    _______              _____   _   _\n",
    " / ____|     /\\     |  __ \\  |__   __|     /\\     |_   _| | \\ | |\n",
    "| |         /  \\    | |__) |    | |       /  \\      | |   |  \\| |\n",
    "| |        / /\\ \\   |  ___/     | |      / /\\ \\     | |   | . ` |\n",
    "| |____   / ____ \\  | |         | |     / ____ \\   _| |_  | |\\  |\n",
    " \\_____| /_/    \\_\\ |_|         |_|    /_/    \\_\\ |_____| |_| \\_|\n",
    "\"\"\"]\n",
    "\n",
    "ascii(game_title)"
   ]
  },
  {
   "cell_type": "markdown",
   "id": "039c66c4",
   "metadata": {},
   "source": [
    "### "
   ]
  },
  {
   "cell_type": "code",
   "execution_count": null,
   "id": "3b5d71ce",
   "metadata": {},
   "outputs": [],
   "source": []
  },
  {
   "cell_type": "code",
   "execution_count": null,
   "id": "f216341d",
   "metadata": {},
   "outputs": [],
   "source": []
  }
 ],
 "metadata": {
  "kernelspec": {
   "display_name": "Python 3",
   "language": "python",
   "name": "python3"
  },
  "language_info": {
   "codemirror_mode": {
    "name": "ipython",
    "version": 3
   },
   "file_extension": ".py",
   "mimetype": "text/x-python",
   "name": "python",
   "nbconvert_exporter": "python",
   "pygments_lexer": "ipython3",
   "version": "3.9.5"
  }
 },
 "nbformat": 4,
 "nbformat_minor": 5
}
